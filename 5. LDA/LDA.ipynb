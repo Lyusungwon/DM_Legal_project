{
 "cells": [
  {
   "cell_type": "code",
   "execution_count": 59,
   "metadata": {},
   "outputs": [],
   "source": [
    "import pandas as pd\n",
    "import numpy as np\n",
    "import konlpy\n",
    "from konlpy.tag import Twitter\n",
    "import nltk\n",
    "from gensim import corpora, models\n",
    "import re\n",
    "import requests\n",
    "import pickle"
   ]
  },
  {
   "cell_type": "code",
   "execution_count": 64,
   "metadata": {
    "collapsed": true
   },
   "outputs": [],
   "source": [
    "with open('data_order.pkl', 'rb') as data:\n",
    "    order = pickle.load(data)\n",
    "with open('data_reason.pkl', 'rb') as data:\n",
    "    reason = pickle.load(data)"
   ]
  },
  {
   "cell_type": "code",
   "execution_count": 61,
   "metadata": {},
   "outputs": [
    {
     "data": {
      "text/plain": [
       "10168"
      ]
     },
     "execution_count": 61,
     "metadata": {},
     "output_type": "execute_result"
    }
   ],
   "source": [
    "len(order)"
   ]
  },
  {
   "cell_type": "code",
   "execution_count": 65,
   "metadata": {},
   "outputs": [
    {
     "data": {
      "text/plain": [
       "10168"
      ]
     },
     "execution_count": 65,
     "metadata": {},
     "output_type": "execute_result"
    }
   ],
   "source": [
    "len(reason)"
   ]
  },
  {
   "cell_type": "code",
   "execution_count": 67,
   "metadata": {},
   "outputs": [
    {
     "data": {
      "text/plain": [
       "10168"
      ]
     },
     "execution_count": 67,
     "metadata": {},
     "output_type": "execute_result"
    }
   ],
   "source": [
    "reason_list=[]\n",
    "for i in reason.values():\n",
    "    reasons =[]\n",
    "    for j in i:\n",
    "        reasons.append(j[0])\n",
    "    reason_list.append(reasons)\n",
    "len(reason_list)"
   ]
  },
  {
   "cell_type": "code",
   "execution_count": 68,
   "metadata": {},
   "outputs": [],
   "source": [
    "dictionary = corpora.Dictionary(reason_list)"
   ]
  },
  {
   "cell_type": "code",
   "execution_count": 69,
   "metadata": {},
   "outputs": [],
   "source": [
    "# convert tokenized documents into a document-term matrix\n",
    "corpus = [dictionary.doc2bow(reason) for reason in reason_list]\n",
    "\n",
    "# generate LDA model\n",
    "ldamodel = models.ldamodel.LdaModel(corpus, num_topics=19, id2word = dictionary, passes=20)"
   ]
  },
  {
   "cell_type": "code",
   "execution_count": null,
   "metadata": {
    "collapsed": true
   },
   "outputs": [],
   "source": [
    "\"뇌물\"\"직무\"\"수수\"\"공무원\"\"김영찬\n",
    "\"체포\" \"집행\" \"방해\" \"전경\" \"공무\"')\n",
    "\"자신\" \"당시\" \"정도\" \"에드워드\" \"가다\"')\n",
    "(3, '0.029*\"공사\" + 0.015*\"운영\" + 0.013*\"상봉\" + 0.013*\"식당\" + 0.012*\"부산\"')\n",
    "(4, '0.025*\"차량\" + 0.025*\"사고\" + 0.012*\"작업\" + 0.011*\"운전\" + 0.011*\"안전\"')\n",
    "(5, '0.021*\"대출\" + 0.015*\"주식\" + 0.014*\"회사\" + 0.010*\"자금\" + 0.007*\"거래\"')\n",
    "(6, '0.015*\"회사\" + 0.010*\"사업\" + 0.009*\"판매\" + 0.008*\"자료\" + 0.008*\"납품\"')\n",
    "(7, '0.011*\"업무\" + 0.010*\"조합\" + 0.010*\"사업\" + 0.008*\"위원회\" + 0.007*\"공사\"')\n",
    "(8, '0.015*\"경영\" + 0.015*\"자문\" + 0.015*\"신상훈\" + 0.013*\"권혁\" + 0.010*\"신한은행\"')\n",
    "(9, '0.027*\"병원\" + 0.015*\"의료\" + 0.013*\"보험\" + 0.010*\"기관\" + 0.010*\"개설\"')\n",
    "(10, '0.016*\"사기\" + 0.012*\"계좌\" + 0.011*\"명의\" + 0.010*\"게임\" + 0.010*\"정보\"')\n",
    "(11, '0.008*\"이다\" + 0.007*\"동인\" + 0.007*\"항소\" + 0.007*\"증인\" + 0.006*\"불구\"')\n",
    "(12, '0.022*\"법리\" + 0.016*\"오해\" + 0.013*\"대법관\" + 0.011*\"의견\" + 0.011*\"정당\"')\n",
    "(13, '0.011*\"처분\" + 0.010*\"재산\" + 0.010*\"관계\" + 0.009*\"사무\" + 0.008*\"등록\"')\n",
    "(14, '0.017*\"토지\" + 0.014*\"매매\" + 0.013*\"명의\" + 0.011*\"지급\" + 0.010*\"등기\"')\n",
    "(15, '0.012*\"이동찬\" + 0.010*\"선거\" + 0.009*\"수표\" + 0.008*\"후보자\" + 0.007*\"정치자금\"')\n",
    "(16, '0.017*\"수사\" + 0.011*\"검찰\" + 0.009*\"취지\" + 0.009*\"절차\" + 0.008*\"공판\"')\n",
    "(17, '0.024*\"처벌\" + 0.019*\"양형\" + 0.013*\"징역\" + 0.012*\"부당\" + 0.010*\"항소\"')\n",
    "(18, '0.011*\"사용\" + 0.011*\"자금\" + 0.011*\"업무\" + 0.011*\"횡령\" + 0.011*\"이희건\"')"
   ]
  },
  {
   "cell_type": "code",
   "execution_count": 181,
   "metadata": {},
   "outputs": [
    {
     "name": "stdout",
     "output_type": "stream",
     "text": [
      "(0, '0.018*\"뇌물\" + 0.017*\"직무\" + 0.014*\"수수\" + 0.012*\"공무원\"')\n",
      "(1, '0.016*\"체포\" + 0.015*\"집행\" + 0.012*\"방해\" + 0.011*\"전경\"')\n",
      "(2, '0.008*\"자신\" + 0.008*\"당시\" + 0.007*\"정도\" + 0.007*\"에드워드\"')\n",
      "(3, '0.029*\"공사\" + 0.015*\"운영\" + 0.013*\"상봉\" + 0.013*\"식당\"')\n",
      "(4, '0.025*\"차량\" + 0.025*\"사고\" + 0.012*\"작업\" + 0.011*\"운전\"')\n",
      "(5, '0.021*\"대출\" + 0.015*\"주식\" + 0.014*\"회사\" + 0.010*\"자금\"')\n",
      "(6, '0.015*\"회사\" + 0.010*\"사업\" + 0.009*\"판매\" + 0.008*\"자료\"')\n",
      "(7, '0.011*\"업무\" + 0.010*\"조합\" + 0.010*\"사업\" + 0.008*\"위원회\"')\n",
      "(8, '0.015*\"경영\" + 0.015*\"자문\" + 0.015*\"신상훈\" + 0.013*\"권혁\"')\n",
      "(9, '0.027*\"병원\" + 0.015*\"의료\" + 0.013*\"보험\" + 0.010*\"기관\"')\n",
      "(10, '0.016*\"사기\" + 0.012*\"계좌\" + 0.011*\"명의\" + 0.010*\"게임\"')\n",
      "(11, '0.008*\"이다\" + 0.007*\"동인\" + 0.007*\"항소\" + 0.007*\"증인\"')\n",
      "(12, '0.022*\"법리\" + 0.016*\"오해\" + 0.013*\"대법관\" + 0.011*\"의견\"')\n",
      "(13, '0.011*\"처분\" + 0.010*\"재산\" + 0.010*\"관계\" + 0.009*\"사무\"')\n",
      "(14, '0.017*\"토지\" + 0.014*\"매매\" + 0.013*\"명의\" + 0.011*\"지급\"')\n",
      "(15, '0.012*\"이동찬\" + 0.010*\"선거\" + 0.009*\"수표\" + 0.008*\"후보자\"')\n",
      "(16, '0.017*\"수사\" + 0.011*\"검찰\" + 0.009*\"취지\" + 0.009*\"절차\"')\n",
      "(17, '0.024*\"처벌\" + 0.019*\"양형\" + 0.013*\"징역\" + 0.012*\"부당\"')\n",
      "(18, '0.011*\"사용\" + 0.011*\"자금\" + 0.011*\"업무\" + 0.011*\"횡령\"')\n"
     ]
    }
   ],
   "source": [
    "for i in ldamodel.print_topics(num_topics=19, num_words=4):\n",
    "    print(i)"
   ]
  },
  {
   "cell_type": "code",
   "execution_count": 112,
   "metadata": {},
   "outputs": [
    {
     "data": {
      "text/plain": [
       "사건명     특정경제범죄가중처벌등에관한법률위반(배임)·특정경제범죄가중처벌등에관한법률위반(사기)·...\n",
       "참조조문    [1] \\n        형법 제347조 / [2] \\n        형법 제17조...\n",
       "판결요지                                                  NaN\n",
       "판례내용    【피고인】 \\n【상고인】 \\n【변호인】   변호사 이재화 외 11인\\n【원심판결】 ...\n",
       "판시사항    [1] 사기죄의 성립 요건\\n[2] 금융기관에 대하여 허위의 재무제표 등을 제출하여...\n",
       "7                                                       0\n",
       "8                                                       0\n",
       "9                                                       1\n",
       "10                                                      0\n",
       "11                                                      0\n",
       "20                                                      1\n",
       "24                                                      0\n",
       "25                                                      0\n",
       "26                                                      0\n",
       "28                                                      0\n",
       "32                                                      0\n",
       "33                                                      0\n",
       "34                                                      0\n",
       "36                                                      0\n",
       "37                                                      0\n",
       "38                                                      0\n",
       "39                                                      1\n",
       "40                                                      1\n",
       "42                                                      0\n",
       "Name: 67148, dtype: object"
      ]
     },
     "execution_count": 112,
     "metadata": {},
     "output_type": "execute_result"
    }
   ],
   "source": [
    "reduced_data = pickle.load(open('reduced_data.pkl', 'rb'))\n",
    "len(reduced_data)\n",
    "df_data = pd.DataFrame(reduced_data)"
   ]
  },
  {
   "cell_type": "code",
   "execution_count": 185,
   "metadata": {},
   "outputs": [
    {
     "data": {
      "text/plain": [
       "'특정범죄가중처벌등에관한법률위반(도주차량)(인정된 죄명 : 교통사고처리특례법위반)·      도로교통법위반'"
      ]
     },
     "execution_count": 185,
     "metadata": {},
     "output_type": "execute_result"
    }
   ],
   "source": [
    "df_data.iloc[25,0]"
   ]
  },
  {
   "cell_type": "code",
   "execution_count": 183,
   "metadata": {},
   "outputs": [
    {
     "data": {
      "text/plain": [
       "[(2, 0.028102485116505344),\n",
       " (4, 0.66315757377040652),\n",
       " (12, 0.30452941463187139)]"
      ]
     },
     "execution_count": 183,
     "metadata": {},
     "output_type": "execute_result"
    }
   ],
   "source": [
    "for i, j in enumerate(reduced_data.keys()):\n",
    "    df_data.iloc[i]\n",
    "ldamodel[corpus[25]]"
   ]
  },
  {
   "cell_type": "code",
   "execution_count": 85,
   "metadata": {},
   "outputs": [
    {
     "data": {
      "text/plain": [
       "10168"
      ]
     },
     "execution_count": 85,
     "metadata": {},
     "output_type": "execute_result"
    }
   ],
   "source": [
    "len(corpus)"
   ]
  },
  {
   "cell_type": "code",
   "execution_count": 90,
   "metadata": {},
   "outputs": [
    {
     "data": {
      "text/plain": [
       "[(2, 0.45608172996454338),\n",
       " (3, 0.043314377583955489),\n",
       " (4, 0.17000195595883252),\n",
       " (11, 0.24647121024714713),\n",
       " (12, 0.063749931058359063)]"
      ]
     },
     "execution_count": 90,
     "metadata": {},
     "output_type": "execute_result"
    }
   ],
   "source": [
    "ldamodel[corpus[0]]"
   ]
  }
 ],
 "metadata": {
  "kernelspec": {
   "display_name": "Python [conda env:py36]",
   "language": "python",
   "name": "conda-env-py36-py"
  },
  "language_info": {
   "codemirror_mode": {
    "name": "ipython",
    "version": 3
   },
   "file_extension": ".py",
   "mimetype": "text/x-python",
   "name": "python",
   "nbconvert_exporter": "python",
   "pygments_lexer": "ipython3",
   "version": "3.6.3"
  }
 },
 "nbformat": 4,
 "nbformat_minor": 2
}
